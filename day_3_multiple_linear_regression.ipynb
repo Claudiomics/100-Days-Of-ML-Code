{
 "cells": [
  {
   "cell_type": "markdown",
   "metadata": {},
   "source": [
    "# Day 3: Multiple Linear Regression\n",
    "\n",
    "Work can be found in day_3_multiple_linear_regression.ipynb.\n",
    "The aim is to model the relationship between two or more features and a response by fitting a linear equation to observed data. The most important factor that influences the predicted outcome can also be assessed.\n",
    "\n",
    "It includes:\n",
    "1. Preprocessing the Data\n",
    "2. Fitting our Model to the Training Set\n",
    "3. Predicting the Test Results"
   ]
  },
  {
   "cell_type": "markdown",
   "metadata": {},
   "source": [
    "## 1. Preprocessing the Data"
   ]
  },
  {
   "cell_type": "code",
   "execution_count": 400,
   "metadata": {},
   "outputs": [
    {
     "data": {
      "text/html": [
       "<div>\n",
       "<style scoped>\n",
       "    .dataframe tbody tr th:only-of-type {\n",
       "        vertical-align: middle;\n",
       "    }\n",
       "\n",
       "    .dataframe tbody tr th {\n",
       "        vertical-align: top;\n",
       "    }\n",
       "\n",
       "    .dataframe thead th {\n",
       "        text-align: right;\n",
       "    }\n",
       "</style>\n",
       "<table border=\"1\" class=\"dataframe\">\n",
       "  <thead>\n",
       "    <tr style=\"text-align: right;\">\n",
       "      <th></th>\n",
       "      <th>R&amp;D Spend</th>\n",
       "      <th>Administration</th>\n",
       "      <th>Marketing Spend</th>\n",
       "      <th>State</th>\n",
       "      <th>Profit</th>\n",
       "    </tr>\n",
       "  </thead>\n",
       "  <tbody>\n",
       "    <tr>\n",
       "      <th>0</th>\n",
       "      <td>165349.20</td>\n",
       "      <td>136897.80</td>\n",
       "      <td>471784.10</td>\n",
       "      <td>New York</td>\n",
       "      <td>192261.83</td>\n",
       "    </tr>\n",
       "    <tr>\n",
       "      <th>1</th>\n",
       "      <td>162597.70</td>\n",
       "      <td>151377.59</td>\n",
       "      <td>443898.53</td>\n",
       "      <td>California</td>\n",
       "      <td>191792.06</td>\n",
       "    </tr>\n",
       "    <tr>\n",
       "      <th>2</th>\n",
       "      <td>153441.51</td>\n",
       "      <td>101145.55</td>\n",
       "      <td>407934.54</td>\n",
       "      <td>Florida</td>\n",
       "      <td>191050.39</td>\n",
       "    </tr>\n",
       "    <tr>\n",
       "      <th>3</th>\n",
       "      <td>144372.41</td>\n",
       "      <td>118671.85</td>\n",
       "      <td>383199.62</td>\n",
       "      <td>New York</td>\n",
       "      <td>182901.99</td>\n",
       "    </tr>\n",
       "    <tr>\n",
       "      <th>4</th>\n",
       "      <td>142107.34</td>\n",
       "      <td>91391.77</td>\n",
       "      <td>366168.42</td>\n",
       "      <td>Florida</td>\n",
       "      <td>166187.94</td>\n",
       "    </tr>\n",
       "  </tbody>\n",
       "</table>\n",
       "</div>"
      ],
      "text/plain": [
       "   R&D Spend  Administration  Marketing Spend       State     Profit\n",
       "0  165349.20       136897.80        471784.10    New York  192261.83\n",
       "1  162597.70       151377.59        443898.53  California  191792.06\n",
       "2  153441.51       101145.55        407934.54     Florida  191050.39\n",
       "3  144372.41       118671.85        383199.62    New York  182901.99\n",
       "4  142107.34        91391.77        366168.42     Florida  166187.94"
      ]
     },
     "execution_count": 400,
     "metadata": {},
     "output_type": "execute_result"
    }
   ],
   "source": [
    "import pandas as pd\n",
    "import numpy as np\n",
    "\n",
    "path = '/Users/Claudia/Documents/Personal Projects/Machine Learning/100-Days-Of-ML-Code/datasets/50_Startups.csv'\n",
    "\n",
    "df = pd.read_csv(path)\n",
    "df.head()"
   ]
  },
  {
   "cell_type": "code",
   "execution_count": 401,
   "metadata": {},
   "outputs": [],
   "source": [
    "# Determine which are the independant and which are the dependant variables\n",
    "# x is independant \n",
    "# y is dependant\n",
    "\n",
    "X = df.iloc[:,:-1].values # all rows, all columns except last\n",
    "Y = df.iloc[:,4:].values # all rows, fourth column"
   ]
  },
  {
   "cell_type": "code",
   "execution_count": 402,
   "metadata": {},
   "outputs": [
    {
     "data": {
      "text/plain": [
       "array([[165349.2, 136897.8, 471784.1, 'New York'],\n",
       "       [162597.7, 151377.59, 443898.53, 'California'],\n",
       "       [153441.51, 101145.55, 407934.54, 'Florida'],\n",
       "       [144372.41, 118671.85, 383199.62, 'New York'],\n",
       "       [142107.34, 91391.77, 366168.42, 'Florida'],\n",
       "       [131876.9, 99814.71, 362861.36, 'New York'],\n",
       "       [134615.46, 147198.87, 127716.82, 'California'],\n",
       "       [130298.13, 145530.06, 323876.68, 'Florida'],\n",
       "       [120542.52, 148718.95, 311613.29, 'New York'],\n",
       "       [123334.88, 108679.17, 304981.62, 'California'],\n",
       "       [101913.08, 110594.11, 229160.95, 'Florida'],\n",
       "       [100671.96, 91790.61, 249744.55, 'California'],\n",
       "       [93863.75, 127320.38, 249839.44, 'Florida'],\n",
       "       [91992.39, 135495.07, 252664.93, 'California'],\n",
       "       [119943.24, 156547.42, 256512.92, 'Florida'],\n",
       "       [114523.61, 122616.84, 261776.23, 'New York'],\n",
       "       [78013.11, 121597.55, 264346.06, 'California'],\n",
       "       [94657.16, 145077.58, 282574.31, 'New York'],\n",
       "       [91749.16, 114175.79, 294919.57, 'Florida'],\n",
       "       [86419.7, 153514.11, 0.0, 'New York'],\n",
       "       [76253.86, 113867.3, 298664.47, 'California'],\n",
       "       [78389.47, 153773.43, 299737.29, 'New York'],\n",
       "       [73994.56, 122782.75, 303319.26, 'Florida'],\n",
       "       [67532.53, 105751.03, 304768.73, 'Florida'],\n",
       "       [77044.01, 99281.34, 140574.81, 'New York'],\n",
       "       [64664.71, 139553.16, 137962.62, 'California'],\n",
       "       [75328.87, 144135.98, 134050.07, 'Florida'],\n",
       "       [72107.6, 127864.55, 353183.81, 'New York'],\n",
       "       [66051.52, 182645.56, 118148.2, 'Florida'],\n",
       "       [65605.48, 153032.06, 107138.38, 'New York'],\n",
       "       [61994.48, 115641.28, 91131.24, 'Florida'],\n",
       "       [61136.38, 152701.92, 88218.23, 'New York'],\n",
       "       [63408.86, 129219.61, 46085.25, 'California'],\n",
       "       [55493.95, 103057.49, 214634.81, 'Florida'],\n",
       "       [46426.07, 157693.92, 210797.67, 'California'],\n",
       "       [46014.02, 85047.44, 205517.64, 'New York'],\n",
       "       [28663.76, 127056.21, 201126.82, 'Florida'],\n",
       "       [44069.95, 51283.14, 197029.42, 'California'],\n",
       "       [20229.59, 65947.93, 185265.1, 'New York'],\n",
       "       [38558.51, 82982.09, 174999.3, 'California'],\n",
       "       [28754.33, 118546.05, 172795.67, 'California'],\n",
       "       [27892.92, 84710.77, 164470.71, 'Florida'],\n",
       "       [23640.93, 96189.63, 148001.11, 'California'],\n",
       "       [15505.73, 127382.3, 35534.17, 'New York'],\n",
       "       [22177.74, 154806.14, 28334.72, 'California'],\n",
       "       [1000.23, 124153.04, 1903.93, 'New York'],\n",
       "       [1315.46, 115816.21, 297114.46, 'Florida'],\n",
       "       [0.0, 135426.92, 0.0, 'California'],\n",
       "       [542.05, 51743.15, 0.0, 'New York'],\n",
       "       [0.0, 116983.8, 45173.06, 'California']], dtype=object)"
      ]
     },
     "execution_count": 402,
     "metadata": {},
     "output_type": "execute_result"
    }
   ],
   "source": [
    "X"
   ]
  },
  {
   "cell_type": "markdown",
   "metadata": {},
   "source": [
    "Encoding the categorical data! Make the labels in the State column are numerical, then convert them into dummy numbers."
   ]
  },
  {
   "cell_type": "code",
   "execution_count": 403,
   "metadata": {},
   "outputs": [],
   "source": [
    "from sklearn.preprocessing import LabelEncoder, OneHotEncoder\n",
    "from sklearn.compose import ColumnTransformer\n",
    "\n",
    "labelencoder = LabelEncoder() # create an instance of the class\n",
    "X[:,3] = labelencoder.fit_transform(X[:,3])# fits to column and transform labels into numbers"
   ]
  },
  {
   "cell_type": "code",
   "execution_count": 404,
   "metadata": {},
   "outputs": [
    {
     "data": {
      "text/plain": [
       "array([[165349.2, 136897.8, 471784.1, 2],\n",
       "       [162597.7, 151377.59, 443898.53, 0],\n",
       "       [153441.51, 101145.55, 407934.54, 1],\n",
       "       [144372.41, 118671.85, 383199.62, 2],\n",
       "       [142107.34, 91391.77, 366168.42, 1],\n",
       "       [131876.9, 99814.71, 362861.36, 2],\n",
       "       [134615.46, 147198.87, 127716.82, 0],\n",
       "       [130298.13, 145530.06, 323876.68, 1],\n",
       "       [120542.52, 148718.95, 311613.29, 2],\n",
       "       [123334.88, 108679.17, 304981.62, 0],\n",
       "       [101913.08, 110594.11, 229160.95, 1],\n",
       "       [100671.96, 91790.61, 249744.55, 0],\n",
       "       [93863.75, 127320.38, 249839.44, 1],\n",
       "       [91992.39, 135495.07, 252664.93, 0],\n",
       "       [119943.24, 156547.42, 256512.92, 1],\n",
       "       [114523.61, 122616.84, 261776.23, 2],\n",
       "       [78013.11, 121597.55, 264346.06, 0],\n",
       "       [94657.16, 145077.58, 282574.31, 2],\n",
       "       [91749.16, 114175.79, 294919.57, 1],\n",
       "       [86419.7, 153514.11, 0.0, 2],\n",
       "       [76253.86, 113867.3, 298664.47, 0],\n",
       "       [78389.47, 153773.43, 299737.29, 2],\n",
       "       [73994.56, 122782.75, 303319.26, 1],\n",
       "       [67532.53, 105751.03, 304768.73, 1],\n",
       "       [77044.01, 99281.34, 140574.81, 2],\n",
       "       [64664.71, 139553.16, 137962.62, 0],\n",
       "       [75328.87, 144135.98, 134050.07, 1],\n",
       "       [72107.6, 127864.55, 353183.81, 2],\n",
       "       [66051.52, 182645.56, 118148.2, 1],\n",
       "       [65605.48, 153032.06, 107138.38, 2],\n",
       "       [61994.48, 115641.28, 91131.24, 1],\n",
       "       [61136.38, 152701.92, 88218.23, 2],\n",
       "       [63408.86, 129219.61, 46085.25, 0],\n",
       "       [55493.95, 103057.49, 214634.81, 1],\n",
       "       [46426.07, 157693.92, 210797.67, 0],\n",
       "       [46014.02, 85047.44, 205517.64, 2],\n",
       "       [28663.76, 127056.21, 201126.82, 1],\n",
       "       [44069.95, 51283.14, 197029.42, 0],\n",
       "       [20229.59, 65947.93, 185265.1, 2],\n",
       "       [38558.51, 82982.09, 174999.3, 0],\n",
       "       [28754.33, 118546.05, 172795.67, 0],\n",
       "       [27892.92, 84710.77, 164470.71, 1],\n",
       "       [23640.93, 96189.63, 148001.11, 0],\n",
       "       [15505.73, 127382.3, 35534.17, 2],\n",
       "       [22177.74, 154806.14, 28334.72, 0],\n",
       "       [1000.23, 124153.04, 1903.93, 2],\n",
       "       [1315.46, 115816.21, 297114.46, 1],\n",
       "       [0.0, 135426.92, 0.0, 0],\n",
       "       [542.05, 51743.15, 0.0, 2],\n",
       "       [0.0, 116983.8, 45173.06, 0]], dtype=object)"
      ]
     },
     "execution_count": 404,
     "metadata": {},
     "output_type": "execute_result"
    }
   ],
   "source": [
    "X"
   ]
  },
  {
   "cell_type": "code",
   "execution_count": 405,
   "metadata": {},
   "outputs": [],
   "source": [
    "# To do onehotencoding, the array needs to be 2D, so re-shape it first\n",
    "twod_X_state = X[:, 3].reshape(-1,1)\n"
   ]
  },
  {
   "cell_type": "code",
   "execution_count": 406,
   "metadata": {},
   "outputs": [],
   "source": [
    "# Then use onehotencoding to create dummy numbers \n",
    "\n",
    "onehotencoder = OneHotEncoder() # create instance \n",
    "\n",
    "# Apply OneHotEncoder to the encoded column\n",
    "dummy_variables = onehotencoder.fit_transform(twod_X_state).toarray() \n",
    "# this creates a new array of 3 columns with 1s and 0s instead of 1 column of 0s, 1s and 2s, and is stored separately\n",
    "#dummy_variables\n"
   ]
  },
  {
   "cell_type": "code",
   "execution_count": 407,
   "metadata": {},
   "outputs": [],
   "source": [
    "# Combine the dummy variables with the rest of the features (excluding the original column)\n",
    "# Remove the original categorical column (index 3)\n",
    "X = np.delete(X, 3, axis=1) # deletes original column we created the dummy cols from\n",
    "# X # check deleted"
   ]
  },
  {
   "cell_type": "code",
   "execution_count": 408,
   "metadata": {},
   "outputs": [
    {
     "data": {
      "text/plain": [
       "array([[165349.2, 136897.8, 471784.1, 0.0, 0.0, 1.0],\n",
       "       [162597.7, 151377.59, 443898.53, 1.0, 0.0, 0.0],\n",
       "       [153441.51, 101145.55, 407934.54, 0.0, 1.0, 0.0],\n",
       "       [144372.41, 118671.85, 383199.62, 0.0, 0.0, 1.0],\n",
       "       [142107.34, 91391.77, 366168.42, 0.0, 1.0, 0.0],\n",
       "       [131876.9, 99814.71, 362861.36, 0.0, 0.0, 1.0],\n",
       "       [134615.46, 147198.87, 127716.82, 1.0, 0.0, 0.0],\n",
       "       [130298.13, 145530.06, 323876.68, 0.0, 1.0, 0.0],\n",
       "       [120542.52, 148718.95, 311613.29, 0.0, 0.0, 1.0],\n",
       "       [123334.88, 108679.17, 304981.62, 1.0, 0.0, 0.0],\n",
       "       [101913.08, 110594.11, 229160.95, 0.0, 1.0, 0.0],\n",
       "       [100671.96, 91790.61, 249744.55, 1.0, 0.0, 0.0],\n",
       "       [93863.75, 127320.38, 249839.44, 0.0, 1.0, 0.0],\n",
       "       [91992.39, 135495.07, 252664.93, 1.0, 0.0, 0.0],\n",
       "       [119943.24, 156547.42, 256512.92, 0.0, 1.0, 0.0],\n",
       "       [114523.61, 122616.84, 261776.23, 0.0, 0.0, 1.0],\n",
       "       [78013.11, 121597.55, 264346.06, 1.0, 0.0, 0.0],\n",
       "       [94657.16, 145077.58, 282574.31, 0.0, 0.0, 1.0],\n",
       "       [91749.16, 114175.79, 294919.57, 0.0, 1.0, 0.0],\n",
       "       [86419.7, 153514.11, 0.0, 0.0, 0.0, 1.0],\n",
       "       [76253.86, 113867.3, 298664.47, 1.0, 0.0, 0.0],\n",
       "       [78389.47, 153773.43, 299737.29, 0.0, 0.0, 1.0],\n",
       "       [73994.56, 122782.75, 303319.26, 0.0, 1.0, 0.0],\n",
       "       [67532.53, 105751.03, 304768.73, 0.0, 1.0, 0.0],\n",
       "       [77044.01, 99281.34, 140574.81, 0.0, 0.0, 1.0],\n",
       "       [64664.71, 139553.16, 137962.62, 1.0, 0.0, 0.0],\n",
       "       [75328.87, 144135.98, 134050.07, 0.0, 1.0, 0.0],\n",
       "       [72107.6, 127864.55, 353183.81, 0.0, 0.0, 1.0],\n",
       "       [66051.52, 182645.56, 118148.2, 0.0, 1.0, 0.0],\n",
       "       [65605.48, 153032.06, 107138.38, 0.0, 0.0, 1.0],\n",
       "       [61994.48, 115641.28, 91131.24, 0.0, 1.0, 0.0],\n",
       "       [61136.38, 152701.92, 88218.23, 0.0, 0.0, 1.0],\n",
       "       [63408.86, 129219.61, 46085.25, 1.0, 0.0, 0.0],\n",
       "       [55493.95, 103057.49, 214634.81, 0.0, 1.0, 0.0],\n",
       "       [46426.07, 157693.92, 210797.67, 1.0, 0.0, 0.0],\n",
       "       [46014.02, 85047.44, 205517.64, 0.0, 0.0, 1.0],\n",
       "       [28663.76, 127056.21, 201126.82, 0.0, 1.0, 0.0],\n",
       "       [44069.95, 51283.14, 197029.42, 1.0, 0.0, 0.0],\n",
       "       [20229.59, 65947.93, 185265.1, 0.0, 0.0, 1.0],\n",
       "       [38558.51, 82982.09, 174999.3, 1.0, 0.0, 0.0],\n",
       "       [28754.33, 118546.05, 172795.67, 1.0, 0.0, 0.0],\n",
       "       [27892.92, 84710.77, 164470.71, 0.0, 1.0, 0.0],\n",
       "       [23640.93, 96189.63, 148001.11, 1.0, 0.0, 0.0],\n",
       "       [15505.73, 127382.3, 35534.17, 0.0, 0.0, 1.0],\n",
       "       [22177.74, 154806.14, 28334.72, 1.0, 0.0, 0.0],\n",
       "       [1000.23, 124153.04, 1903.93, 0.0, 0.0, 1.0],\n",
       "       [1315.46, 115816.21, 297114.46, 0.0, 1.0, 0.0],\n",
       "       [0.0, 135426.92, 0.0, 1.0, 0.0, 0.0],\n",
       "       [542.05, 51743.15, 0.0, 0.0, 0.0, 1.0],\n",
       "       [0.0, 116983.8, 45173.06, 1.0, 0.0, 0.0]], dtype=object)"
      ]
     },
     "execution_count": 408,
     "metadata": {},
     "output_type": "execute_result"
    }
   ],
   "source": [
    "# Concatenate the dummy variables with the remaining features\n",
    "X = np.concatenate((X, dummy_variables), axis=1)\n",
    "\n",
    "# Check they are combined\n",
    "X"
   ]
  },
  {
   "cell_type": "markdown",
   "metadata": {},
   "source": [
    "Avoid dummy variable trap (where there is two columns saying the same thing, for example male and female column turned to 1 and 0, then create a dummy column for each is unecessary.)\n",
    "\n",
    "\n",
    "What is the Dummy Variable Trap?\n",
    "When you one-hot encode a categorical variable with 𝑛 unique categories, you typically create 𝑛 new binary (0 or 1) variables. If you include all 𝑛 dummy variables in your regression model, the information provided by one of the dummy variables can be perfectly predicted by the others. For example, if you have a categorical variable for colors with categories \"Red\", \"Green\", and \"Blue\":\n",
    "\n",
    "Dummy Variables Created:\n",
    "Red: 1 if the color is Red, else 0\n",
    "Green: 1 if the color is Green, else 0\n",
    "Blue: 1 if the color is Blue, else 0\n",
    "In this case, if you know the values of the first two dummy variables, you can infer the third. For example:\n",
    "\n",
    "If \n",
    "Red=0 and Green=0, then Blue must be 1.\n",
    "\n",
    "Why Remove One Dummy Variable?\n",
    "To avoid the dummy variable trap, the standard practice is to drop one of the dummy variables from your dataset. By dropping one dummy variable, you eliminate the redundancy and reduce the risk of multicollinearity. This is also known as creating a reference category or baseline.\n",
    "\n",
    "For instance, if you drop the \"Blue\" dummy variable, your dataset will still effectively represent the categorical variable, as the remaining variables can encode the information of the dropped variable:\n",
    "\n",
    "Red=1: Color is Red\n",
    "Green=1: Color is Green\n",
    "If both are 0: Color is Blue"
   ]
  },
  {
   "cell_type": "code",
   "execution_count": 409,
   "metadata": {},
   "outputs": [
    {
     "data": {
      "text/plain": [
       "array([[165349.2, 136897.8, 471784.1, 0.0, 0.0],\n",
       "       [162597.7, 151377.59, 443898.53, 1.0, 0.0],\n",
       "       [153441.51, 101145.55, 407934.54, 0.0, 1.0],\n",
       "       [144372.41, 118671.85, 383199.62, 0.0, 0.0],\n",
       "       [142107.34, 91391.77, 366168.42, 0.0, 1.0],\n",
       "       [131876.9, 99814.71, 362861.36, 0.0, 0.0],\n",
       "       [134615.46, 147198.87, 127716.82, 1.0, 0.0],\n",
       "       [130298.13, 145530.06, 323876.68, 0.0, 1.0],\n",
       "       [120542.52, 148718.95, 311613.29, 0.0, 0.0],\n",
       "       [123334.88, 108679.17, 304981.62, 1.0, 0.0],\n",
       "       [101913.08, 110594.11, 229160.95, 0.0, 1.0],\n",
       "       [100671.96, 91790.61, 249744.55, 1.0, 0.0],\n",
       "       [93863.75, 127320.38, 249839.44, 0.0, 1.0],\n",
       "       [91992.39, 135495.07, 252664.93, 1.0, 0.0],\n",
       "       [119943.24, 156547.42, 256512.92, 0.0, 1.0],\n",
       "       [114523.61, 122616.84, 261776.23, 0.0, 0.0],\n",
       "       [78013.11, 121597.55, 264346.06, 1.0, 0.0],\n",
       "       [94657.16, 145077.58, 282574.31, 0.0, 0.0],\n",
       "       [91749.16, 114175.79, 294919.57, 0.0, 1.0],\n",
       "       [86419.7, 153514.11, 0.0, 0.0, 0.0],\n",
       "       [76253.86, 113867.3, 298664.47, 1.0, 0.0],\n",
       "       [78389.47, 153773.43, 299737.29, 0.0, 0.0],\n",
       "       [73994.56, 122782.75, 303319.26, 0.0, 1.0],\n",
       "       [67532.53, 105751.03, 304768.73, 0.0, 1.0],\n",
       "       [77044.01, 99281.34, 140574.81, 0.0, 0.0],\n",
       "       [64664.71, 139553.16, 137962.62, 1.0, 0.0],\n",
       "       [75328.87, 144135.98, 134050.07, 0.0, 1.0],\n",
       "       [72107.6, 127864.55, 353183.81, 0.0, 0.0],\n",
       "       [66051.52, 182645.56, 118148.2, 0.0, 1.0],\n",
       "       [65605.48, 153032.06, 107138.38, 0.0, 0.0],\n",
       "       [61994.48, 115641.28, 91131.24, 0.0, 1.0],\n",
       "       [61136.38, 152701.92, 88218.23, 0.0, 0.0],\n",
       "       [63408.86, 129219.61, 46085.25, 1.0, 0.0],\n",
       "       [55493.95, 103057.49, 214634.81, 0.0, 1.0],\n",
       "       [46426.07, 157693.92, 210797.67, 1.0, 0.0],\n",
       "       [46014.02, 85047.44, 205517.64, 0.0, 0.0],\n",
       "       [28663.76, 127056.21, 201126.82, 0.0, 1.0],\n",
       "       [44069.95, 51283.14, 197029.42, 1.0, 0.0],\n",
       "       [20229.59, 65947.93, 185265.1, 0.0, 0.0],\n",
       "       [38558.51, 82982.09, 174999.3, 1.0, 0.0],\n",
       "       [28754.33, 118546.05, 172795.67, 1.0, 0.0],\n",
       "       [27892.92, 84710.77, 164470.71, 0.0, 1.0],\n",
       "       [23640.93, 96189.63, 148001.11, 1.0, 0.0],\n",
       "       [15505.73, 127382.3, 35534.17, 0.0, 0.0],\n",
       "       [22177.74, 154806.14, 28334.72, 1.0, 0.0],\n",
       "       [1000.23, 124153.04, 1903.93, 0.0, 0.0],\n",
       "       [1315.46, 115816.21, 297114.46, 0.0, 1.0],\n",
       "       [0.0, 135426.92, 0.0, 1.0, 0.0],\n",
       "       [542.05, 51743.15, 0.0, 0.0, 0.0],\n",
       "       [0.0, 116983.8, 45173.06, 1.0, 0.0]], dtype=object)"
      ]
     },
     "execution_count": 409,
     "metadata": {},
     "output_type": "execute_result"
    }
   ],
   "source": [
    "X = X[: , :-1] # removes the last column of the dummy variables\n",
    "X"
   ]
  },
  {
   "cell_type": "markdown",
   "metadata": {},
   "source": [
    "## 2. Fitting our Model to the Training Set"
   ]
  },
  {
   "cell_type": "code",
   "execution_count": 410,
   "metadata": {},
   "outputs": [],
   "source": [
    "from sklearn.model_selection import train_test_split\n",
    "X_train, X_test, Y_train, Y_test = train_test_split(X, Y, test_size = 0.2, random_state = 10)"
   ]
  },
  {
   "cell_type": "markdown",
   "metadata": {},
   "source": [
    "## 3. Predicting the Test Results"
   ]
  },
  {
   "cell_type": "code",
   "execution_count": 411,
   "metadata": {},
   "outputs": [
    {
     "data": {
      "text/plain": [
       "array([[ 89173.72784115],\n",
       "       [110171.90144925],\n",
       "       [ 65822.47758043],\n",
       "       [ 70785.21142579],\n",
       "       [ 47652.1269401 ],\n",
       "       [116303.59665194],\n",
       "       [172176.28003546],\n",
       "       [100657.06254104],\n",
       "       [160473.25265877],\n",
       "       [158835.62246235]])"
      ]
     },
     "execution_count": 411,
     "metadata": {},
     "output_type": "execute_result"
    }
   ],
   "source": [
    "from sklearn.linear_model import LinearRegression\n",
    "regressor = LinearRegression()\n",
    "regressor.fit(X_train, Y_train) # fit the model to the training set\n",
    "y_pred = regressor.predict(X_test) # predict the outcome (profit) based on independant variables (X) test data\n",
    "y_pred"
   ]
  },
  {
   "cell_type": "code",
   "execution_count": 412,
   "metadata": {},
   "outputs": [
    {
     "data": {
      "text/plain": [
       "array([[ 89173.72784115],\n",
       "       [110171.90144925],\n",
       "       [ 65822.47758043],\n",
       "       [ 70785.21142579],\n",
       "       [ 47652.1269401 ],\n",
       "       [116303.59665194],\n",
       "       [172176.28003546],\n",
       "       [100657.06254104],\n",
       "       [160473.25265877],\n",
       "       [158835.62246235]])"
      ]
     },
     "execution_count": 412,
     "metadata": {},
     "output_type": "execute_result"
    }
   ],
   "source": [
    "y_pred = regressor.predict(X_test) # predict the outcome (profit) based on independant variables (X) test data\n",
    "y_pred"
   ]
  },
  {
   "cell_type": "markdown",
   "metadata": {},
   "source": [
    "## Accuracy Examination\n",
    "\n",
    "Use a scatter plot where the red line is the line of perfect prediction (where actual=predicted), and the blue dots represent an individual prediction for a test data point, with the x-axis representing the actual value from Y_test and the y-axis representing the predicted value (y_pred)."
   ]
  },
  {
   "cell_type": "code",
   "execution_count": 413,
   "metadata": {},
   "outputs": [
    {
     "data": {
      "image/png": "[encoded data removed]",
      "text/plain": [
       "<Figure size 1000x600 with 1 Axes>"
      ]
     },
     "metadata": {},
     "output_type": "display_data"
    }
   ],
   "source": [
    "# Create a scatter plot of actual vs predicted values\n",
    "plt.figure(figsize=(10, 6))\n",
    "plt.scatter(Y_test, y_pred, color='blue')\n",
    "plt.plot([min(Y_test), max(Y_test)], [min(Y_test), max(Y_test)], color='red', lw=2)  # Line for perfect prediction\n",
    "plt.title('Actual vs Predicted')\n",
    "plt.xlabel('Actual Values')\n",
    "plt.ylabel('Predicted Values')\n",
    "plt.show()"
   ]
  }
 ],
 "metadata": {
  "kernelspec": {
   "display_name": "base",
   "language": "python",
   "name": "python3"
  },
  "language_info": {
   "codemirror_mode": {
    "name": "ipython",
    "version": 3
   },
   "file_extension": ".py",
   "mimetype": "text/x-python",
   "name": "python",
   "nbconvert_exporter": "python",
   "pygments_lexer": "ipython3",
   "version": "3.11.5"
  }
 },
 "nbformat": 4,
 "nbformat_minor": 2
}
